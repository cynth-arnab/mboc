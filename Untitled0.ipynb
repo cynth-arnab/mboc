{
  "nbformat": 4,
  "nbformat_minor": 0,
  "metadata": {
    "colab": {
      "provenance": []
    },
    "kernelspec": {
      "name": "python3",
      "display_name": "Python 3"
    },
    "language_info": {
      "name": "python"
    }
  },
  "cells": [
    {
      "cell_type": "code",
      "execution_count": null,
      "metadata": {
        "id": "gAcuC9-xI1ST"
      },
      "outputs": [],
      "source": [
        "import numpy as np\n",
        "import matplotlib.pyplot as plt\n",
        "import pandas as pd\n",
        "from sklearn.datasets import load_wine\n",
        "from sklearn.model_selection import train_test_split\n",
        "from sklearn.preprocessing import StandardScaler\n",
        "from sklearn.linear_model import LogisticRegression\n",
        "from sklearn.svm import SVC\n",
        "from sklearn.metrics import accuracy_score"
      ]
    },
    {
      "cell_type": "code",
      "source": [
        "data = load_wine()\n",
        "X = data.data\n",
        "y = data.target"
      ],
      "metadata": {
        "id": "HhKy-ChzI_3Y"
      },
      "execution_count": null,
      "outputs": []
    },
    {
      "cell_type": "code",
      "source": [
        "X_train, X_test, y_train, y_test = train_test_split(X, y, test_size=0.3, random_state=42)"
      ],
      "metadata": {
        "id": "Qb7grq68M7D1"
      },
      "execution_count": null,
      "outputs": []
    },
    {
      "cell_type": "code",
      "source": [
        "scaler = StandardScaler()\n",
        "X_train_scaled = scaler.fit_transform(X_train)\n",
        "X_test_scaled = scaler.transform(X_test)"
      ],
      "metadata": {
        "id": "Dkrtd9osNG5k"
      },
      "execution_count": null,
      "outputs": []
    },
    {
      "cell_type": "code",
      "source": [
        "underfit_model = LogisticRegression(max_iter=1000)\n",
        "underfit_model.fit(X_train_scaled, y_train)\n",
        "y_train_pred_underfit = underfit_model.predict(X_train_scaled)\n",
        "y_test_pred_underfit = underfit_model.predict(X_test_scaled)"
      ],
      "metadata": {
        "id": "BAZL320cNnH2"
      },
      "execution_count": null,
      "outputs": []
    },
    {
      "cell_type": "code",
      "source": [
        "\n",
        "print(\"Underfitting Model Performance:\")\n",
        "print(f\"Training Accuracy: {accuracy_score(y_train, y_train_pred_underfit):.2f}\")\n",
        "print(f\"Test Accuracy: {accuracy_score(y_test, y_test_pred_underfit):.2f}\")\n"
      ],
      "metadata": {
        "colab": {
          "base_uri": "https://localhost:8080/"
        },
        "id": "GvP7VhvwORmv",
        "outputId": "a035f544-649d-441d-df7f-f7e4fff5e319"
      },
      "execution_count": null,
      "outputs": [
        {
          "output_type": "stream",
          "name": "stdout",
          "text": [
            "Underfitting Model Performance:\n",
            "Training Accuracy: 0.96\n",
            "Test Accuracy: 1.00\n"
          ]
        }
      ]
    },
    {
      "cell_type": "code",
      "source": [
        "overfit_model = SVC(kernel='rbf', C=1000)\n",
        "overfit_model.fit(X_train_scaled, y_train)\n",
        "y_train_pred_overfit = overfit_model.predict(X_train_scaled)\n",
        "y_test_pred_overfit = overfit_model.predict(X_test_scaled)"
      ],
      "metadata": {
        "id": "NQqkBHbwQA5t"
      },
      "execution_count": null,
      "outputs": []
    },
    {
      "cell_type": "code",
      "source": [
        "print(\"\\nOverfitting Model Performance:\")\n",
        "print(f\"Training Accuracy: {accuracy_score(y_train, y_train_pred_overfit):.2f}\")\n",
        "print(f\"Test Accuracy: {accuracy_score(y_test, y_test_pred_overfit):.2f}\")"
      ],
      "metadata": {
        "colab": {
          "base_uri": "https://localhost:8080/"
        },
        "id": "RGmW5Hk0Q1Fi",
        "outputId": "5fea9eb0-3fcc-440d-9505-68139b4654dc"
      },
      "execution_count": null,
      "outputs": [
        {
          "output_type": "stream",
          "name": "stdout",
          "text": [
            "\n",
            "Overfitting Model Performance:\n",
            "Training Accuracy: 1.00\n",
            "Test Accuracy: 0.96\n"
          ]
        }
      ]
    },
  
